{
 "cells": [
  {
   "cell_type": "markdown",
   "id": "1ec3d9f5",
   "metadata": {},
   "source": [
    "# Telecom Customer Churn dataset"
   ]
  },
  {
   "cell_type": "markdown",
   "id": "c943b5d0",
   "metadata": {},
   "source": [
    "## Objectives:\n",
    "To carry out visulizatiaon for the following:\n",
    "1. Compare the churn count with respect to gender\n",
    "2. Find out how many female senior citizens there are in the dataset\n",
    "3. Compare tenure with total charges\n",
    "4. Find out the preferred form of contract among senior citizens\n",
    "5.  Comment your finds on payment methods"
   ]
  },
  {
   "cell_type": "markdown",
   "id": "56211df0",
   "metadata": {},
   "source": [
    "### Importing relevant libraries"
   ]
  },
  {
   "cell_type": "code",
   "execution_count": 1,
   "id": "963b6426",
   "metadata": {},
   "outputs": [],
   "source": [
    "import numpy as np\n",
    "import pandas as pd\n",
    "import matplotlib.pyplot as plt\n",
    "import seaborn as sns"
   ]
  },
  {
   "cell_type": "markdown",
   "id": "996814b7",
   "metadata": {},
   "source": [
    "### Reading the dataset using pandas"
   ]
  },
  {
   "cell_type": "code",
   "execution_count": 2,
   "id": "7093958b",
   "metadata": {},
   "outputs": [
    {
     "data": {
      "text/html": [
       "<div>\n",
       "<style scoped>\n",
       "    .dataframe tbody tr th:only-of-type {\n",
       "        vertical-align: middle;\n",
       "    }\n",
       "\n",
       "    .dataframe tbody tr th {\n",
       "        vertical-align: top;\n",
       "    }\n",
       "\n",
       "    .dataframe thead th {\n",
       "        text-align: right;\n",
       "    }\n",
       "</style>\n",
       "<table border=\"1\" class=\"dataframe\">\n",
       "  <thead>\n",
       "    <tr style=\"text-align: right;\">\n",
       "      <th></th>\n",
       "      <th>customerID</th>\n",
       "      <th>gender</th>\n",
       "      <th>SeniorCitizen</th>\n",
       "      <th>Partner</th>\n",
       "      <th>Dependents</th>\n",
       "      <th>tenure</th>\n",
       "      <th>PhoneService</th>\n",
       "      <th>MultipleLines</th>\n",
       "      <th>InternetService</th>\n",
       "      <th>OnlineSecurity</th>\n",
       "      <th>...</th>\n",
       "      <th>DeviceProtection</th>\n",
       "      <th>TechSupport</th>\n",
       "      <th>StreamingTV</th>\n",
       "      <th>StreamingMovies</th>\n",
       "      <th>Contract</th>\n",
       "      <th>PaperlessBilling</th>\n",
       "      <th>PaymentMethod</th>\n",
       "      <th>MonthlyCharges</th>\n",
       "      <th>TotalCharges</th>\n",
       "      <th>Churn</th>\n",
       "    </tr>\n",
       "  </thead>\n",
       "  <tbody>\n",
       "    <tr>\n",
       "      <th>0</th>\n",
       "      <td>7590-VHVEG</td>\n",
       "      <td>Female</td>\n",
       "      <td>0</td>\n",
       "      <td>Yes</td>\n",
       "      <td>No</td>\n",
       "      <td>1</td>\n",
       "      <td>No</td>\n",
       "      <td>No phone service</td>\n",
       "      <td>DSL</td>\n",
       "      <td>No</td>\n",
       "      <td>...</td>\n",
       "      <td>No</td>\n",
       "      <td>No</td>\n",
       "      <td>No</td>\n",
       "      <td>No</td>\n",
       "      <td>Month-to-month</td>\n",
       "      <td>Yes</td>\n",
       "      <td>Electronic check</td>\n",
       "      <td>29.85</td>\n",
       "      <td>29.85</td>\n",
       "      <td>No</td>\n",
       "    </tr>\n",
       "    <tr>\n",
       "      <th>1</th>\n",
       "      <td>5575-GNVDE</td>\n",
       "      <td>Male</td>\n",
       "      <td>0</td>\n",
       "      <td>No</td>\n",
       "      <td>No</td>\n",
       "      <td>34</td>\n",
       "      <td>Yes</td>\n",
       "      <td>No</td>\n",
       "      <td>DSL</td>\n",
       "      <td>Yes</td>\n",
       "      <td>...</td>\n",
       "      <td>Yes</td>\n",
       "      <td>No</td>\n",
       "      <td>No</td>\n",
       "      <td>No</td>\n",
       "      <td>One year</td>\n",
       "      <td>No</td>\n",
       "      <td>Mailed check</td>\n",
       "      <td>56.95</td>\n",
       "      <td>1889.5</td>\n",
       "      <td>No</td>\n",
       "    </tr>\n",
       "    <tr>\n",
       "      <th>2</th>\n",
       "      <td>3668-QPYBK</td>\n",
       "      <td>Male</td>\n",
       "      <td>0</td>\n",
       "      <td>No</td>\n",
       "      <td>No</td>\n",
       "      <td>2</td>\n",
       "      <td>Yes</td>\n",
       "      <td>No</td>\n",
       "      <td>DSL</td>\n",
       "      <td>Yes</td>\n",
       "      <td>...</td>\n",
       "      <td>No</td>\n",
       "      <td>No</td>\n",
       "      <td>No</td>\n",
       "      <td>No</td>\n",
       "      <td>Month-to-month</td>\n",
       "      <td>Yes</td>\n",
       "      <td>Mailed check</td>\n",
       "      <td>53.85</td>\n",
       "      <td>108.15</td>\n",
       "      <td>Yes</td>\n",
       "    </tr>\n",
       "    <tr>\n",
       "      <th>3</th>\n",
       "      <td>7795-CFOCW</td>\n",
       "      <td>Male</td>\n",
       "      <td>0</td>\n",
       "      <td>No</td>\n",
       "      <td>No</td>\n",
       "      <td>45</td>\n",
       "      <td>No</td>\n",
       "      <td>No phone service</td>\n",
       "      <td>DSL</td>\n",
       "      <td>Yes</td>\n",
       "      <td>...</td>\n",
       "      <td>Yes</td>\n",
       "      <td>Yes</td>\n",
       "      <td>No</td>\n",
       "      <td>No</td>\n",
       "      <td>One year</td>\n",
       "      <td>No</td>\n",
       "      <td>Bank transfer (automatic)</td>\n",
       "      <td>42.30</td>\n",
       "      <td>1840.75</td>\n",
       "      <td>No</td>\n",
       "    </tr>\n",
       "    <tr>\n",
       "      <th>4</th>\n",
       "      <td>9237-HQITU</td>\n",
       "      <td>Female</td>\n",
       "      <td>0</td>\n",
       "      <td>No</td>\n",
       "      <td>No</td>\n",
       "      <td>2</td>\n",
       "      <td>Yes</td>\n",
       "      <td>No</td>\n",
       "      <td>Fiber optic</td>\n",
       "      <td>No</td>\n",
       "      <td>...</td>\n",
       "      <td>No</td>\n",
       "      <td>No</td>\n",
       "      <td>No</td>\n",
       "      <td>No</td>\n",
       "      <td>Month-to-month</td>\n",
       "      <td>Yes</td>\n",
       "      <td>Electronic check</td>\n",
       "      <td>70.70</td>\n",
       "      <td>151.65</td>\n",
       "      <td>Yes</td>\n",
       "    </tr>\n",
       "  </tbody>\n",
       "</table>\n",
       "<p>5 rows × 21 columns</p>\n",
       "</div>"
      ],
      "text/plain": [
       "   customerID  gender  SeniorCitizen Partner Dependents  tenure PhoneService  \\\n",
       "0  7590-VHVEG  Female              0     Yes         No       1           No   \n",
       "1  5575-GNVDE    Male              0      No         No      34          Yes   \n",
       "2  3668-QPYBK    Male              0      No         No       2          Yes   \n",
       "3  7795-CFOCW    Male              0      No         No      45           No   \n",
       "4  9237-HQITU  Female              0      No         No       2          Yes   \n",
       "\n",
       "      MultipleLines InternetService OnlineSecurity  ... DeviceProtection  \\\n",
       "0  No phone service             DSL             No  ...               No   \n",
       "1                No             DSL            Yes  ...              Yes   \n",
       "2                No             DSL            Yes  ...               No   \n",
       "3  No phone service             DSL            Yes  ...              Yes   \n",
       "4                No     Fiber optic             No  ...               No   \n",
       "\n",
       "  TechSupport StreamingTV StreamingMovies        Contract PaperlessBilling  \\\n",
       "0          No          No              No  Month-to-month              Yes   \n",
       "1          No          No              No        One year               No   \n",
       "2          No          No              No  Month-to-month              Yes   \n",
       "3         Yes          No              No        One year               No   \n",
       "4          No          No              No  Month-to-month              Yes   \n",
       "\n",
       "               PaymentMethod MonthlyCharges  TotalCharges Churn  \n",
       "0           Electronic check          29.85         29.85    No  \n",
       "1               Mailed check          56.95        1889.5    No  \n",
       "2               Mailed check          53.85        108.15   Yes  \n",
       "3  Bank transfer (automatic)          42.30       1840.75    No  \n",
       "4           Electronic check          70.70        151.65   Yes  \n",
       "\n",
       "[5 rows x 21 columns]"
      ]
     },
     "execution_count": 2,
     "metadata": {},
     "output_type": "execute_result"
    }
   ],
   "source": [
    "df = pd.read_csv(\"Data\\Telco-Customer-Churn.xlsx - Telco-Customer-Churn.csv\")\n",
    "df.head()"
   ]
  },
  {
   "cell_type": "code",
   "execution_count": 3,
   "id": "04c35c0f",
   "metadata": {},
   "outputs": [
    {
     "data": {
      "text/plain": [
       "(7043, 21)"
      ]
     },
     "execution_count": 3,
     "metadata": {},
     "output_type": "execute_result"
    }
   ],
   "source": [
    "df.shape"
   ]
  },
  {
   "cell_type": "markdown",
   "id": "10e91821",
   "metadata": {},
   "source": [
    "The dataset has 7043 rows and 21 columns"
   ]
  },
  {
   "cell_type": "markdown",
   "id": "94f2ab85",
   "metadata": {},
   "source": [
    "#### Column Names"
   ]
  },
  {
   "cell_type": "code",
   "execution_count": 4,
   "id": "0d0c3075",
   "metadata": {},
   "outputs": [
    {
     "data": {
      "text/plain": [
       "Index(['customerID', 'gender', 'SeniorCitizen', 'Partner', 'Dependents',\n",
       "       'tenure', 'PhoneService', 'MultipleLines', 'InternetService',\n",
       "       'OnlineSecurity', 'OnlineBackup', 'DeviceProtection', 'TechSupport',\n",
       "       'StreamingTV', 'StreamingMovies', 'Contract', 'PaperlessBilling',\n",
       "       'PaymentMethod', 'MonthlyCharges', 'TotalCharges', 'Churn'],\n",
       "      dtype='object')"
      ]
     },
     "execution_count": 4,
     "metadata": {},
     "output_type": "execute_result"
    }
   ],
   "source": [
    "df.columns"
   ]
  },
  {
   "cell_type": "markdown",
   "id": "bf42e93f",
   "metadata": {},
   "source": [
    "## 1.Comparing churn count with respect to gender"
   ]
  },
  {
   "cell_type": "code",
   "execution_count": 5,
   "id": "b399d9ee",
   "metadata": {},
   "outputs": [
    {
     "data": {
      "text/html": [
       "<div>\n",
       "<style scoped>\n",
       "    .dataframe tbody tr th:only-of-type {\n",
       "        vertical-align: middle;\n",
       "    }\n",
       "\n",
       "    .dataframe tbody tr th {\n",
       "        vertical-align: top;\n",
       "    }\n",
       "\n",
       "    .dataframe thead th {\n",
       "        text-align: right;\n",
       "    }\n",
       "</style>\n",
       "<table border=\"1\" class=\"dataframe\">\n",
       "  <thead>\n",
       "    <tr style=\"text-align: right;\">\n",
       "      <th></th>\n",
       "      <th>gender</th>\n",
       "      <th>Churn</th>\n",
       "    </tr>\n",
       "  </thead>\n",
       "  <tbody>\n",
       "    <tr>\n",
       "      <th>0</th>\n",
       "      <td>Female</td>\n",
       "      <td>No</td>\n",
       "    </tr>\n",
       "    <tr>\n",
       "      <th>1</th>\n",
       "      <td>Male</td>\n",
       "      <td>No</td>\n",
       "    </tr>\n",
       "    <tr>\n",
       "      <th>2</th>\n",
       "      <td>Male</td>\n",
       "      <td>Yes</td>\n",
       "    </tr>\n",
       "    <tr>\n",
       "      <th>3</th>\n",
       "      <td>Male</td>\n",
       "      <td>No</td>\n",
       "    </tr>\n",
       "    <tr>\n",
       "      <th>4</th>\n",
       "      <td>Female</td>\n",
       "      <td>Yes</td>\n",
       "    </tr>\n",
       "    <tr>\n",
       "      <th>...</th>\n",
       "      <td>...</td>\n",
       "      <td>...</td>\n",
       "    </tr>\n",
       "    <tr>\n",
       "      <th>7038</th>\n",
       "      <td>Male</td>\n",
       "      <td>No</td>\n",
       "    </tr>\n",
       "    <tr>\n",
       "      <th>7039</th>\n",
       "      <td>Female</td>\n",
       "      <td>No</td>\n",
       "    </tr>\n",
       "    <tr>\n",
       "      <th>7040</th>\n",
       "      <td>Female</td>\n",
       "      <td>No</td>\n",
       "    </tr>\n",
       "    <tr>\n",
       "      <th>7041</th>\n",
       "      <td>Male</td>\n",
       "      <td>Yes</td>\n",
       "    </tr>\n",
       "    <tr>\n",
       "      <th>7042</th>\n",
       "      <td>Male</td>\n",
       "      <td>No</td>\n",
       "    </tr>\n",
       "  </tbody>\n",
       "</table>\n",
       "<p>7043 rows × 2 columns</p>\n",
       "</div>"
      ],
      "text/plain": [
       "      gender Churn\n",
       "0     Female    No\n",
       "1       Male    No\n",
       "2       Male   Yes\n",
       "3       Male    No\n",
       "4     Female   Yes\n",
       "...      ...   ...\n",
       "7038    Male    No\n",
       "7039  Female    No\n",
       "7040  Female    No\n",
       "7041    Male   Yes\n",
       "7042    Male    No\n",
       "\n",
       "[7043 rows x 2 columns]"
      ]
     },
     "execution_count": 5,
     "metadata": {},
     "output_type": "execute_result"
    }
   ],
   "source": [
    "df_2 = df[['gender', 'Churn']]\n",
    "df_2"
   ]
  },
  {
   "cell_type": "markdown",
   "id": "07015028",
   "metadata": {},
   "source": [
    "Defining a separate dataframe df_2 which has only gender and churn columns."
   ]
  },
  {
   "cell_type": "code",
   "execution_count": 6,
   "id": "00804165",
   "metadata": {},
   "outputs": [
    {
     "data": {
      "image/png": "[encoded data removed]",
      "text/plain": [
       "<Figure size 432x288 with 1 Axes>"
      ]
     },
     "metadata": {
      "needs_background": "light"
     },
     "output_type": "display_data"
    }
   ],
   "source": [
    "graph_1 = sns.countplot(x = 'gender', hue = 'Churn', data = df_2, )\n",
    "rects = graph_1.patches\n",
    "for bar in rects:\n",
    "    y_value = bar.get_height()\n",
    "    x_value = bar.get_x() + bar.get_width()/2\n",
    "    graph_1.annotate(f'\\n{y_value}', (x_value, y_value), ha = 'center', va = 'top')\n",
    "plt.title('Churn count vs Gender', fontsize = 14)\n",
    "plt.show()"
   ]
  },
  {
   "cell_type": "markdown",
   "id": "3b85978b",
   "metadata": {},
   "source": [
    "### Insights:\n",
    "Churn count is slightly higher among the female customers. 939 out of 3488 female customers switched business while 930 among male customers switched."
   ]
  },
  {
   "cell_type": "markdown",
   "id": "239060d6",
   "metadata": {},
   "source": [
    "## 2. Number of female senior citizens."
   ]
  },
  {
   "cell_type": "code",
   "execution_count": 7,
   "id": "96640a95",
   "metadata": {},
   "outputs": [
    {
     "data": {
      "text/html": [
       "<div>\n",
       "<style scoped>\n",
       "    .dataframe tbody tr th:only-of-type {\n",
       "        vertical-align: middle;\n",
       "    }\n",
       "\n",
       "    .dataframe tbody tr th {\n",
       "        vertical-align: top;\n",
       "    }\n",
       "\n",
       "    .dataframe thead th {\n",
       "        text-align: right;\n",
       "    }\n",
       "</style>\n",
       "<table border=\"1\" class=\"dataframe\">\n",
       "  <thead>\n",
       "    <tr style=\"text-align: right;\">\n",
       "      <th></th>\n",
       "      <th>gender</th>\n",
       "      <th>SeniorCitizen</th>\n",
       "    </tr>\n",
       "  </thead>\n",
       "  <tbody>\n",
       "    <tr>\n",
       "      <th>0</th>\n",
       "      <td>Female</td>\n",
       "      <td>0</td>\n",
       "    </tr>\n",
       "    <tr>\n",
       "      <th>4</th>\n",
       "      <td>Female</td>\n",
       "      <td>0</td>\n",
       "    </tr>\n",
       "    <tr>\n",
       "      <th>5</th>\n",
       "      <td>Female</td>\n",
       "      <td>0</td>\n",
       "    </tr>\n",
       "    <tr>\n",
       "      <th>7</th>\n",
       "      <td>Female</td>\n",
       "      <td>0</td>\n",
       "    </tr>\n",
       "    <tr>\n",
       "      <th>8</th>\n",
       "      <td>Female</td>\n",
       "      <td>0</td>\n",
       "    </tr>\n",
       "    <tr>\n",
       "      <th>...</th>\n",
       "      <td>...</td>\n",
       "      <td>...</td>\n",
       "    </tr>\n",
       "    <tr>\n",
       "      <th>7034</th>\n",
       "      <td>Female</td>\n",
       "      <td>0</td>\n",
       "    </tr>\n",
       "    <tr>\n",
       "      <th>7036</th>\n",
       "      <td>Female</td>\n",
       "      <td>0</td>\n",
       "    </tr>\n",
       "    <tr>\n",
       "      <th>7037</th>\n",
       "      <td>Female</td>\n",
       "      <td>0</td>\n",
       "    </tr>\n",
       "    <tr>\n",
       "      <th>7039</th>\n",
       "      <td>Female</td>\n",
       "      <td>0</td>\n",
       "    </tr>\n",
       "    <tr>\n",
       "      <th>7040</th>\n",
       "      <td>Female</td>\n",
       "      <td>0</td>\n",
       "    </tr>\n",
       "  </tbody>\n",
       "</table>\n",
       "<p>3488 rows × 2 columns</p>\n",
       "</div>"
      ],
      "text/plain": [
       "      gender  SeniorCitizen\n",
       "0     Female              0\n",
       "4     Female              0\n",
       "5     Female              0\n",
       "7     Female              0\n",
       "8     Female              0\n",
       "...      ...            ...\n",
       "7034  Female              0\n",
       "7036  Female              0\n",
       "7037  Female              0\n",
       "7039  Female              0\n",
       "7040  Female              0\n",
       "\n",
       "[3488 rows x 2 columns]"
      ]
     },
     "execution_count": 7,
     "metadata": {},
     "output_type": "execute_result"
    }
   ],
   "source": [
    "df_3 = df[['gender', 'SeniorCitizen']].loc[df['gender'] == 'Female']\n",
    "df_3"
   ]
  },
  {
   "cell_type": "markdown",
   "id": "ec12b6e9",
   "metadata": {},
   "source": [
    "Defining a separate dataframe df_3 which satisfy the conditions: female and senior citizens."
   ]
  },
  {
   "cell_type": "code",
   "execution_count": 8,
   "id": "936b1d0b",
   "metadata": {},
   "outputs": [
    {
     "data": {
      "image/png": "[encoded data removed]",
      "text/plain": [
       "<Figure size 432x288 with 1 Axes>"
      ]
     },
     "metadata": {
      "needs_background": "light"
     },
     "output_type": "display_data"
    }
   ],
   "source": [
    "graph_2 = sns.countplot(x = 'gender', hue = 'SeniorCitizen', data = df_3, )\n",
    "rects = graph_2.patches\n",
    "for bar in rects:\n",
    "    y_value = bar.get_height()\n",
    "    x_value = bar.get_x() + bar.get_width()/2\n",
    "    graph_2.annotate(f'\\n{y_value}', (x_value, y_value), ha = 'center', va = 'top')\n",
    "plt.title('Female senior citizens', fontsize = 14)\n",
    "plt.legend(title='Senior Citizens', loc='best', labels=['No', 'Yes'])\n",
    "plt.show()"
   ]
  },
  {
   "cell_type": "markdown",
   "id": "a3da08a6",
   "metadata": {},
   "source": [
    "### Insights:\n",
    "568 out of total 3488 female coustomers are senior citizens."
   ]
  },
  {
   "cell_type": "markdown",
   "id": "e876b88e",
   "metadata": {},
   "source": [
    "## 3. Comparing tenure with total charges"
   ]
  },
  {
   "cell_type": "code",
   "execution_count": 9,
   "id": "2961b80a",
   "metadata": {},
   "outputs": [],
   "source": [
    "#df['TotalCharges'].astype(float, errors='raise')"
   ]
  },
  {
   "cell_type": "markdown",
   "id": "b0aacad1",
   "metadata": {},
   "source": [
    "TotalCharges column contains non numerical type data found by code line above"
   ]
  },
  {
   "cell_type": "code",
   "execution_count": 10,
   "id": "77f1847d",
   "metadata": {},
   "outputs": [
    {
     "name": "stdout",
     "output_type": "stream",
     "text": [
      "[' ', ' ', ' ', ' ', ' ', ' ', ' ', ' ', ' ', ' ', ' ']\n"
     ]
    }
   ],
   "source": [
    "list1 = []\n",
    "for each in df['TotalCharges']:\n",
    "    try:\n",
    "        float(each)\n",
    "    except ValueError:\n",
    "        list1.append(each)\n",
    "print(list1)"
   ]
  },
  {
   "cell_type": "markdown",
   "id": "38ce84fe",
   "metadata": {},
   "source": [
    "Finding the type of non numerical value in TotalCharges column using try and except."
   ]
  },
  {
   "cell_type": "code",
   "execution_count": 11,
   "id": "2b2778ca",
   "metadata": {},
   "outputs": [],
   "source": [
    "df_4 = df[['tenure', 'TotalCharges']]"
   ]
  },
  {
   "cell_type": "markdown",
   "id": "d5b87367",
   "metadata": {},
   "source": [
    "Defining a new dataframe to include only tenure and totalcharges columns."
   ]
  },
  {
   "cell_type": "code",
   "execution_count": 21,
   "id": "98660d7c",
   "metadata": {},
   "outputs": [],
   "source": [
    "df_4 = df_4.replace({' ': 0})"
   ]
  },
  {
   "cell_type": "markdown",
   "id": "c360735e",
   "metadata": {},
   "source": [
    "Replacing string with zeros."
   ]
  },
  {
   "cell_type": "code",
   "execution_count": 22,
   "id": "8efc1dd0",
   "metadata": {},
   "outputs": [
    {
     "data": {
      "text/html": [
       "<div>\n",
       "<style scoped>\n",
       "    .dataframe tbody tr th:only-of-type {\n",
       "        vertical-align: middle;\n",
       "    }\n",
       "\n",
       "    .dataframe tbody tr th {\n",
       "        vertical-align: top;\n",
       "    }\n",
       "\n",
       "    .dataframe thead th {\n",
       "        text-align: right;\n",
       "    }\n",
       "</style>\n",
       "<table border=\"1\" class=\"dataframe\">\n",
       "  <thead>\n",
       "    <tr style=\"text-align: right;\">\n",
       "      <th></th>\n",
       "      <th>tenure</th>\n",
       "      <th>TotalCharges</th>\n",
       "    </tr>\n",
       "  </thead>\n",
       "  <tbody>\n",
       "  </tbody>\n",
       "</table>\n",
       "</div>"
      ],
      "text/plain": [
       "Empty DataFrame\n",
       "Columns: [tenure, TotalCharges]\n",
       "Index: []"
      ]
     },
     "execution_count": 22,
     "metadata": {},
     "output_type": "execute_result"
    }
   ],
   "source": [
    "df_4.loc[df_4['TotalCharges'] == ' ']"
   ]
  },
  {
   "cell_type": "code",
   "execution_count": 23,
   "id": "1b64d12b",
   "metadata": {},
   "outputs": [
    {
     "data": {
      "text/html": [
       "<div>\n",
       "<style scoped>\n",
       "    .dataframe tbody tr th:only-of-type {\n",
       "        vertical-align: middle;\n",
       "    }\n",
       "\n",
       "    .dataframe tbody tr th {\n",
       "        vertical-align: top;\n",
       "    }\n",
       "\n",
       "    .dataframe thead th {\n",
       "        text-align: right;\n",
       "    }\n",
       "</style>\n",
       "<table border=\"1\" class=\"dataframe\">\n",
       "  <thead>\n",
       "    <tr style=\"text-align: right;\">\n",
       "      <th></th>\n",
       "      <th>tenure</th>\n",
       "      <th>TotalCharges</th>\n",
       "    </tr>\n",
       "  </thead>\n",
       "  <tbody>\n",
       "    <tr>\n",
       "      <th>488</th>\n",
       "      <td>0</td>\n",
       "      <td>0</td>\n",
       "    </tr>\n",
       "    <tr>\n",
       "      <th>753</th>\n",
       "      <td>0</td>\n",
       "      <td>0</td>\n",
       "    </tr>\n",
       "    <tr>\n",
       "      <th>936</th>\n",
       "      <td>0</td>\n",
       "      <td>0</td>\n",
       "    </tr>\n",
       "    <tr>\n",
       "      <th>1082</th>\n",
       "      <td>0</td>\n",
       "      <td>0</td>\n",
       "    </tr>\n",
       "    <tr>\n",
       "      <th>1340</th>\n",
       "      <td>0</td>\n",
       "      <td>0</td>\n",
       "    </tr>\n",
       "    <tr>\n",
       "      <th>3331</th>\n",
       "      <td>0</td>\n",
       "      <td>0</td>\n",
       "    </tr>\n",
       "    <tr>\n",
       "      <th>3826</th>\n",
       "      <td>0</td>\n",
       "      <td>0</td>\n",
       "    </tr>\n",
       "    <tr>\n",
       "      <th>4380</th>\n",
       "      <td>0</td>\n",
       "      <td>0</td>\n",
       "    </tr>\n",
       "    <tr>\n",
       "      <th>5218</th>\n",
       "      <td>0</td>\n",
       "      <td>0</td>\n",
       "    </tr>\n",
       "    <tr>\n",
       "      <th>6670</th>\n",
       "      <td>0</td>\n",
       "      <td>0</td>\n",
       "    </tr>\n",
       "    <tr>\n",
       "      <th>6754</th>\n",
       "      <td>0</td>\n",
       "      <td>0</td>\n",
       "    </tr>\n",
       "  </tbody>\n",
       "</table>\n",
       "</div>"
      ],
      "text/plain": [
       "      tenure TotalCharges\n",
       "488        0            0\n",
       "753        0            0\n",
       "936        0            0\n",
       "1082       0            0\n",
       "1340       0            0\n",
       "3331       0            0\n",
       "3826       0            0\n",
       "4380       0            0\n",
       "5218       0            0\n",
       "6670       0            0\n",
       "6754       0            0"
      ]
     },
     "execution_count": 23,
     "metadata": {},
     "output_type": "execute_result"
    }
   ],
   "source": [
    "df_4.loc[df_4['TotalCharges'] == 0]"
   ]
  },
  {
   "cell_type": "code",
   "execution_count": 24,
   "id": "0c626d60",
   "metadata": {},
   "outputs": [],
   "source": [
    "df_4 = df_4.astype({'tenure': 'int64', 'TotalCharges': 'float'})"
   ]
  },
  {
   "cell_type": "markdown",
   "id": "06742f7c",
   "metadata": {},
   "source": [
    "Converting TotalCharges column from object to float."
   ]
  },
  {
   "cell_type": "code",
   "execution_count": 25,
   "id": "7c5cbd20",
   "metadata": {},
   "outputs": [
    {
     "data": {
      "text/plain": [
       "dtype('float64')"
      ]
     },
     "execution_count": 25,
     "metadata": {},
     "output_type": "execute_result"
    }
   ],
   "source": [
    "df_4['TotalCharges'].dtype"
   ]
  },
  {
   "cell_type": "markdown",
   "id": "8b484133",
   "metadata": {},
   "source": [
    "#### Scatter plot of tenure vs total charges"
   ]
  },
  {
   "cell_type": "code",
   "execution_count": 27,
   "id": "9267975d",
   "metadata": {},
   "outputs": [
    {
     "data": {
      "image/png": "[encoded data removed]",
      "text/plain": [
       "<Figure size 576x360 with 1 Axes>"
      ]
     },
     "metadata": {
      "needs_background": "light"
     },
     "output_type": "display_data"
    }
   ],
   "source": [
    "plt.figure(figsize=(8, 5))\n",
    "plt.scatter(df_4['tenure'], df_4['TotalCharges'])\n",
    "plt.xlabel('Tenure', fontsize=12)\n",
    "plt.ylabel('Total Charges', fontsize = 12)\n",
    "plt.title('Tenure vs Total Charges', fontsize=14)\n",
    "plt.show()"
   ]
  },
  {
   "cell_type": "markdown",
   "id": "504da6ab",
   "metadata": {},
   "source": [
    "### Insights:\n",
    "Total charges and tenure exhibit a positive correlation."
   ]
  },
  {
   "cell_type": "markdown",
   "id": "32d038ba",
   "metadata": {},
   "source": [
    "## 4. Contract preferred by senior citizens"
   ]
  },
  {
   "cell_type": "code",
   "execution_count": 28,
   "id": "41764fe2",
   "metadata": {},
   "outputs": [
    {
     "data": {
      "text/plain": [
       "Month-to-month    3875\n",
       "Two year          1695\n",
       "One year          1473\n",
       "Name: Contract, dtype: int64"
      ]
     },
     "execution_count": 28,
     "metadata": {},
     "output_type": "execute_result"
    }
   ],
   "source": [
    "df['Contract'].value_counts()"
   ]
  },
  {
   "cell_type": "markdown",
   "id": "92a5ee23",
   "metadata": {},
   "source": [
    "There appears to be three types of contracts in the dataset; namely Mont-to-month, Two year, and One year. Month-to-month seem to be the overall preferred form of contract."
   ]
  },
  {
   "cell_type": "code",
   "execution_count": 29,
   "id": "9e9b5ef7",
   "metadata": {},
   "outputs": [
    {
     "data": {
      "text/html": [
       "<div>\n",
       "<style scoped>\n",
       "    .dataframe tbody tr th:only-of-type {\n",
       "        vertical-align: middle;\n",
       "    }\n",
       "\n",
       "    .dataframe tbody tr th {\n",
       "        vertical-align: top;\n",
       "    }\n",
       "\n",
       "    .dataframe thead th {\n",
       "        text-align: right;\n",
       "    }\n",
       "</style>\n",
       "<table border=\"1\" class=\"dataframe\">\n",
       "  <thead>\n",
       "    <tr style=\"text-align: right;\">\n",
       "      <th></th>\n",
       "      <th>SeniorCitizen</th>\n",
       "      <th>Contract</th>\n",
       "    </tr>\n",
       "  </thead>\n",
       "  <tbody>\n",
       "    <tr>\n",
       "      <th>20</th>\n",
       "      <td>1</td>\n",
       "      <td>Month-to-month</td>\n",
       "    </tr>\n",
       "    <tr>\n",
       "      <th>30</th>\n",
       "      <td>1</td>\n",
       "      <td>Two year</td>\n",
       "    </tr>\n",
       "    <tr>\n",
       "      <th>31</th>\n",
       "      <td>1</td>\n",
       "      <td>Month-to-month</td>\n",
       "    </tr>\n",
       "    <tr>\n",
       "      <th>34</th>\n",
       "      <td>1</td>\n",
       "      <td>Month-to-month</td>\n",
       "    </tr>\n",
       "    <tr>\n",
       "      <th>50</th>\n",
       "      <td>1</td>\n",
       "      <td>Month-to-month</td>\n",
       "    </tr>\n",
       "    <tr>\n",
       "      <th>...</th>\n",
       "      <td>...</td>\n",
       "      <td>...</td>\n",
       "    </tr>\n",
       "    <tr>\n",
       "      <th>7023</th>\n",
       "      <td>1</td>\n",
       "      <td>Month-to-month</td>\n",
       "    </tr>\n",
       "    <tr>\n",
       "      <th>7029</th>\n",
       "      <td>1</td>\n",
       "      <td>Month-to-month</td>\n",
       "    </tr>\n",
       "    <tr>\n",
       "      <th>7031</th>\n",
       "      <td>1</td>\n",
       "      <td>One year</td>\n",
       "    </tr>\n",
       "    <tr>\n",
       "      <th>7032</th>\n",
       "      <td>1</td>\n",
       "      <td>Month-to-month</td>\n",
       "    </tr>\n",
       "    <tr>\n",
       "      <th>7041</th>\n",
       "      <td>1</td>\n",
       "      <td>Month-to-month</td>\n",
       "    </tr>\n",
       "  </tbody>\n",
       "</table>\n",
       "<p>1142 rows × 2 columns</p>\n",
       "</div>"
      ],
      "text/plain": [
       "      SeniorCitizen        Contract\n",
       "20                1  Month-to-month\n",
       "30                1        Two year\n",
       "31                1  Month-to-month\n",
       "34                1  Month-to-month\n",
       "50                1  Month-to-month\n",
       "...             ...             ...\n",
       "7023              1  Month-to-month\n",
       "7029              1  Month-to-month\n",
       "7031              1        One year\n",
       "7032              1  Month-to-month\n",
       "7041              1  Month-to-month\n",
       "\n",
       "[1142 rows x 2 columns]"
      ]
     },
     "execution_count": 29,
     "metadata": {},
     "output_type": "execute_result"
    }
   ],
   "source": [
    "df_5 = df[['SeniorCitizen', 'Contract']].loc[df['SeniorCitizen'] == 1]\n",
    "df_5"
   ]
  },
  {
   "cell_type": "markdown",
   "id": "5fd93e4c",
   "metadata": {},
   "source": [
    "Defining a dataframe df_5 consisting of just senior citizens and their contract types"
   ]
  },
  {
   "cell_type": "code",
   "execution_count": 30,
   "id": "f119dcdf",
   "metadata": {},
   "outputs": [
    {
     "data": {
      "image/png": "[encoded data removed]",
      "text/plain": [
       "<Figure size 432x288 with 1 Axes>"
      ]
     },
     "metadata": {
      "needs_background": "light"
     },
     "output_type": "display_data"
    }
   ],
   "source": [
    "graph_3 = sns.countplot(x = 'SeniorCitizen', hue = 'Contract', data = df_5 )\n",
    "rects = graph_3.patches\n",
    "for bar in rects:\n",
    "    y_value = bar.get_height()\n",
    "    x_value = bar.get_x() + bar.get_width()/2\n",
    "    graph_3.annotate(f'\\n{y_value}', (x_value, y_value), ha = 'center', va = 'top')\n",
    "plt.title('Senior citizens most preferred contract', fontsize = 14)\n",
    "plt.xticks([])\n",
    "plt.show()"
   ]
  },
  {
   "cell_type": "markdown",
   "id": "6d663119",
   "metadata": {},
   "source": [
    "### Insight:\n",
    "Most preferred form of contract by senior citizens is month-to-month."
   ]
  },
  {
   "cell_type": "markdown",
   "id": "b4b01ef3",
   "metadata": {},
   "source": [
    "## 5. Insights on payment methods"
   ]
  },
  {
   "cell_type": "code",
   "execution_count": 31,
   "id": "d32c9c69",
   "metadata": {},
   "outputs": [
    {
     "data": {
      "text/plain": [
       "Electronic check             2365\n",
       "Mailed check                 1612\n",
       "Bank transfer (automatic)    1544\n",
       "Credit card (automatic)      1522\n",
       "Name: PaymentMethod, dtype: int64"
      ]
     },
     "execution_count": 31,
     "metadata": {},
     "output_type": "execute_result"
    }
   ],
   "source": [
    "df['PaymentMethod'].value_counts()"
   ]
  },
  {
   "cell_type": "markdown",
   "id": "8fddcc0e",
   "metadata": {},
   "source": [
    "There are four payment methods, namely Electronic check, Mailed check, Bank transfer, and Credit card."
   ]
  },
  {
   "cell_type": "code",
   "execution_count": 32,
   "id": "87275572",
   "metadata": {},
   "outputs": [
    {
     "data": {
      "text/html": [
       "<div>\n",
       "<style scoped>\n",
       "    .dataframe tbody tr th:only-of-type {\n",
       "        vertical-align: middle;\n",
       "    }\n",
       "\n",
       "    .dataframe tbody tr th {\n",
       "        vertical-align: top;\n",
       "    }\n",
       "\n",
       "    .dataframe thead th {\n",
       "        text-align: right;\n",
       "    }\n",
       "</style>\n",
       "<table border=\"1\" class=\"dataframe\">\n",
       "  <thead>\n",
       "    <tr style=\"text-align: right;\">\n",
       "      <th></th>\n",
       "      <th>SeniorCitizen</th>\n",
       "      <th>PaymentMethod</th>\n",
       "    </tr>\n",
       "  </thead>\n",
       "  <tbody>\n",
       "    <tr>\n",
       "      <th>20</th>\n",
       "      <td>1</td>\n",
       "      <td>Electronic check</td>\n",
       "    </tr>\n",
       "    <tr>\n",
       "      <th>30</th>\n",
       "      <td>1</td>\n",
       "      <td>Credit card (automatic)</td>\n",
       "    </tr>\n",
       "    <tr>\n",
       "      <th>31</th>\n",
       "      <td>1</td>\n",
       "      <td>Credit card (automatic)</td>\n",
       "    </tr>\n",
       "    <tr>\n",
       "      <th>34</th>\n",
       "      <td>1</td>\n",
       "      <td>Bank transfer (automatic)</td>\n",
       "    </tr>\n",
       "    <tr>\n",
       "      <th>50</th>\n",
       "      <td>1</td>\n",
       "      <td>Electronic check</td>\n",
       "    </tr>\n",
       "    <tr>\n",
       "      <th>...</th>\n",
       "      <td>...</td>\n",
       "      <td>...</td>\n",
       "    </tr>\n",
       "    <tr>\n",
       "      <th>7023</th>\n",
       "      <td>1</td>\n",
       "      <td>Electronic check</td>\n",
       "    </tr>\n",
       "    <tr>\n",
       "      <th>7029</th>\n",
       "      <td>1</td>\n",
       "      <td>Electronic check</td>\n",
       "    </tr>\n",
       "    <tr>\n",
       "      <th>7031</th>\n",
       "      <td>1</td>\n",
       "      <td>Credit card (automatic)</td>\n",
       "    </tr>\n",
       "    <tr>\n",
       "      <th>7032</th>\n",
       "      <td>1</td>\n",
       "      <td>Electronic check</td>\n",
       "    </tr>\n",
       "    <tr>\n",
       "      <th>7041</th>\n",
       "      <td>1</td>\n",
       "      <td>Mailed check</td>\n",
       "    </tr>\n",
       "  </tbody>\n",
       "</table>\n",
       "<p>1142 rows × 2 columns</p>\n",
       "</div>"
      ],
      "text/plain": [
       "      SeniorCitizen              PaymentMethod\n",
       "20                1           Electronic check\n",
       "30                1    Credit card (automatic)\n",
       "31                1    Credit card (automatic)\n",
       "34                1  Bank transfer (automatic)\n",
       "50                1           Electronic check\n",
       "...             ...                        ...\n",
       "7023              1           Electronic check\n",
       "7029              1           Electronic check\n",
       "7031              1    Credit card (automatic)\n",
       "7032              1           Electronic check\n",
       "7041              1               Mailed check\n",
       "\n",
       "[1142 rows x 2 columns]"
      ]
     },
     "execution_count": 32,
     "metadata": {},
     "output_type": "execute_result"
    }
   ],
   "source": [
    "df_6 = df[['SeniorCitizen', 'PaymentMethod']].loc[df['SeniorCitizen'] == 1]\n",
    "df_6"
   ]
  },
  {
   "cell_type": "markdown",
   "id": "861cff3c",
   "metadata": {},
   "source": [
    "df_6 is a dataframe containing senior citizens and their payment methods."
   ]
  },
  {
   "cell_type": "code",
   "execution_count": 34,
   "id": "d7ec92a0",
   "metadata": {},
   "outputs": [
    {
     "data": {
      "text/html": [
       "<div>\n",
       "<style scoped>\n",
       "    .dataframe tbody tr th:only-of-type {\n",
       "        vertical-align: middle;\n",
       "    }\n",
       "\n",
       "    .dataframe tbody tr th {\n",
       "        vertical-align: top;\n",
       "    }\n",
       "\n",
       "    .dataframe thead th {\n",
       "        text-align: right;\n",
       "    }\n",
       "</style>\n",
       "<table border=\"1\" class=\"dataframe\">\n",
       "  <thead>\n",
       "    <tr style=\"text-align: right;\">\n",
       "      <th></th>\n",
       "      <th>SeniorCitizen</th>\n",
       "      <th>PaymentMethod</th>\n",
       "    </tr>\n",
       "  </thead>\n",
       "  <tbody>\n",
       "    <tr>\n",
       "      <th>0</th>\n",
       "      <td>0</td>\n",
       "      <td>Electronic check</td>\n",
       "    </tr>\n",
       "    <tr>\n",
       "      <th>1</th>\n",
       "      <td>0</td>\n",
       "      <td>Mailed check</td>\n",
       "    </tr>\n",
       "    <tr>\n",
       "      <th>2</th>\n",
       "      <td>0</td>\n",
       "      <td>Mailed check</td>\n",
       "    </tr>\n",
       "    <tr>\n",
       "      <th>3</th>\n",
       "      <td>0</td>\n",
       "      <td>Bank transfer (automatic)</td>\n",
       "    </tr>\n",
       "    <tr>\n",
       "      <th>4</th>\n",
       "      <td>0</td>\n",
       "      <td>Electronic check</td>\n",
       "    </tr>\n",
       "    <tr>\n",
       "      <th>...</th>\n",
       "      <td>...</td>\n",
       "      <td>...</td>\n",
       "    </tr>\n",
       "    <tr>\n",
       "      <th>7037</th>\n",
       "      <td>0</td>\n",
       "      <td>Bank transfer (automatic)</td>\n",
       "    </tr>\n",
       "    <tr>\n",
       "      <th>7038</th>\n",
       "      <td>0</td>\n",
       "      <td>Mailed check</td>\n",
       "    </tr>\n",
       "    <tr>\n",
       "      <th>7039</th>\n",
       "      <td>0</td>\n",
       "      <td>Credit card (automatic)</td>\n",
       "    </tr>\n",
       "    <tr>\n",
       "      <th>7040</th>\n",
       "      <td>0</td>\n",
       "      <td>Electronic check</td>\n",
       "    </tr>\n",
       "    <tr>\n",
       "      <th>7042</th>\n",
       "      <td>0</td>\n",
       "      <td>Bank transfer (automatic)</td>\n",
       "    </tr>\n",
       "  </tbody>\n",
       "</table>\n",
       "<p>5901 rows × 2 columns</p>\n",
       "</div>"
      ],
      "text/plain": [
       "      SeniorCitizen              PaymentMethod\n",
       "0                 0           Electronic check\n",
       "1                 0               Mailed check\n",
       "2                 0               Mailed check\n",
       "3                 0  Bank transfer (automatic)\n",
       "4                 0           Electronic check\n",
       "...             ...                        ...\n",
       "7037              0  Bank transfer (automatic)\n",
       "7038              0               Mailed check\n",
       "7039              0    Credit card (automatic)\n",
       "7040              0           Electronic check\n",
       "7042              0  Bank transfer (automatic)\n",
       "\n",
       "[5901 rows x 2 columns]"
      ]
     },
     "execution_count": 34,
     "metadata": {},
     "output_type": "execute_result"
    }
   ],
   "source": [
    "df_7 = df[['SeniorCitizen', 'PaymentMethod']].loc[df['SeniorCitizen'] == 0]\n",
    "df_7"
   ]
  },
  {
   "cell_type": "markdown",
   "id": "8f97c6b6",
   "metadata": {},
   "source": [
    "df_7 is a dataframe containing payment methods of non-senior citizens."
   ]
  },
  {
   "cell_type": "code",
   "execution_count": 36,
   "id": "ffb705fb",
   "metadata": {},
   "outputs": [
    {
     "data": {
      "image/png": "[encoded data removed]",
      "text/plain": [
       "<Figure size 576x576 with 2 Axes>"
      ]
     },
     "metadata": {
      "needs_background": "light"
     },
     "output_type": "display_data"
    }
   ],
   "source": [
    "plt.figure(figsize=(8, 8))\n",
    "\n",
    "plt.subplot(2, 1, 1)\n",
    "graph_4 = sns.countplot(x = 'SeniorCitizen', hue = 'PaymentMethod', data = df_6 )\n",
    "rects = graph_4.patches\n",
    "for bar in rects:\n",
    "    y_value = bar.get_height()\n",
    "    x_value = bar.get_x() + bar.get_width()/2\n",
    "    graph_4.annotate(f'\\n{y_value}', (x_value, y_value), ha = 'center', va = 'top')\n",
    "plt.title('Senior citizens most preferred payment method', fontsize = 14)\n",
    "plt.xticks([])\n",
    "\n",
    "plt.subplot(2, 1, 2)\n",
    "graph_5 = sns.countplot(x = 'PaymentMethod', data = df_7)\n",
    "rects = graph_5.patches\n",
    "for bar in rects:\n",
    "    y_value = bar.get_height()\n",
    "    x_value = bar.get_x() + bar.get_width()/2\n",
    "    graph_5.annotate(f'\\n{y_value}', (x_value, y_value), ha = 'center', va = 'top')\n",
    "plt.title('Overall most preferred payment method among others', fontsize = 14)\n",
    "plt.xticks(rotation=75)\n",
    "\n",
    "plt.tight_layout()"
   ]
  },
  {
   "cell_type": "markdown",
   "id": "8d031aa5",
   "metadata": {},
   "source": [
    "### Insight:\n",
    "Most preferred payment method among senior citizens is Electronic check.\n",
    "Payment methods preferred by others does't seem to vary significantly."
   ]
  }
 ],
 "metadata": {
  "kernelspec": {
   "display_name": "Python 3",
   "language": "python",
   "name": "python3"
  },
  "language_info": {
   "codemirror_mode": {
    "name": "ipython",
    "version": 3
   },
   "file_extension": ".py",
   "mimetype": "text/x-python",
   "name": "python",
   "nbconvert_exporter": "python",
   "pygments_lexer": "ipython3",
   "version": "3.8.8"
  }
 },
 "nbformat": 4,
 "nbformat_minor": 5
}
